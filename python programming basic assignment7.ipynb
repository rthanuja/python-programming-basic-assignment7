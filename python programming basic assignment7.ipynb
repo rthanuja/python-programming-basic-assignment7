{
 "cells": [
  {
   "cell_type": "code",
   "execution_count": 1,
   "id": "ae01fd8c",
   "metadata": {},
   "outputs": [
    {
     "name": "stdout",
     "output_type": "stream",
     "text": [
      "enter the numbers 10 11 13 243\n",
      "277\n"
     ]
    }
   ],
   "source": [
    "#Write a Python Program to find sum of array?\n",
    "a=list(map(int,input(\"enter the numbers \").split()))\n",
    "print(sum(a))"
   ]
  },
  {
   "cell_type": "code",
   "execution_count": 3,
   "id": "f502a045",
   "metadata": {},
   "outputs": [
    {
     "name": "stdout",
     "output_type": "stream",
     "text": [
      "enter the numbers 27 227 727 5\n",
      "727\n"
     ]
    }
   ],
   "source": [
    "#2. Write a Python Program to find largest element in an array?\n",
    "a=list(map(int,input(\"enter the numbers \").split()))\n",
    "print(max(a))"
   ]
  },
  {
   "cell_type": "code",
   "execution_count": 4,
   "id": "8b06aabc",
   "metadata": {},
   "outputs": [
    {
     "name": "stdout",
     "output_type": "stream",
     "text": [
      "enter the numbers in the list 5 10 15 25 30 35\n",
      "enter rotation:right or left left\n",
      "enter no of positions to be rotated 3\n",
      "[25, 30, 35, 5, 10, 15]\n"
     ]
    }
   ],
   "source": [
    "#3. Write a Python Program for array rotation?\n",
    "l=list(map(int,input(\"enter the numbers in the list \").split()))\n",
    "s=input(\"enter rotation:right or left \")\n",
    "p=int(input(\"enter no of positions to be rotated \"))\n",
    "if s==\"right\":\n",
    "    print(l[len(l)-p:]+l[:len(l)-p])\n",
    "elif s==\"left\":\n",
    "    print(l[p:]+l[:p])"
   ]
  },
  {
   "cell_type": "code",
   "execution_count": 5,
   "id": "f154d74e",
   "metadata": {},
   "outputs": [
    {
     "name": "stdout",
     "output_type": "stream",
     "text": [
      "enter the numbers in the list 5 10 6 4 8 9\n",
      "enter index after which split is required3\n",
      "[8, 9, 5, 10, 6, 4]\n"
     ]
    }
   ],
   "source": [
    "#4. Write a Python Program to Split the array and add the first part \n",
    "#to the end?\n",
    "l=list(map(int,input(\"enter the numbers in the list \").split()))\n",
    "d=int(input(\"enter index after which split is required\"))\n",
    "print(l[d+1:]+l[:d+1])"
   ]
  },
  {
   "cell_type": "code",
   "execution_count": 8,
   "id": "b1ad55cb",
   "metadata": {},
   "outputs": [
    {
     "name": "stdout",
     "output_type": "stream",
     "text": [
      "enter the numbers 9 8 8 7 6 5\n",
      "the array is monotonically decreasing\n"
     ]
    }
   ],
   "source": [
    "#5. Write a Python Program to check if given array is Monotonic?\n",
    "a=list(map(int,input(\"enter the numbers \").split()))\n",
    "l=list(a)\n",
    "a.sort()\n",
    "b=0\n",
    "if l==a:\n",
    "    print(\"the array is monotonically increasing\")\n",
    "    b=1\n",
    "a.reverse()\n",
    "if l==a:\n",
    "    print(\"the array is monotonically decreasing\")\n",
    "    b=1\n",
    "elif b==0:\n",
    "    print(\"the array is not monotonic\")"
   ]
  }
 ],
 "metadata": {
  "kernelspec": {
   "display_name": "Python 3 (ipykernel)",
   "language": "python",
   "name": "python3"
  },
  "language_info": {
   "codemirror_mode": {
    "name": "ipython",
    "version": 3
   },
   "file_extension": ".py",
   "mimetype": "text/x-python",
   "name": "python",
   "nbconvert_exporter": "python",
   "pygments_lexer": "ipython3",
   "version": "3.10.9"
  }
 },
 "nbformat": 4,
 "nbformat_minor": 5
}
